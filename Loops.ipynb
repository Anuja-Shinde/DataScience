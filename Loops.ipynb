{
 "cells": [
  {
   "cell_type": "code",
   "execution_count": 68,
   "metadata": {},
   "outputs": [
    {
     "name": "stdout",
     "output_type": "stream",
     "text": [
      "a is greater than 5\n"
     ]
    }
   ],
   "source": [
    "a=10\n",
    "if a<5:\n",
    "    print(\"a is less than 5\")\n",
    "else:\n",
    "    print(\"a is greater than 5\")"
   ]
  },
  {
   "cell_type": "code",
   "execution_count": 70,
   "metadata": {},
   "outputs": [
    {
     "name": "stdout",
     "output_type": "stream",
     "text": [
      "10\n",
      "I'll be able to buy phone\n"
     ]
    }
   ],
   "source": [
    "#input() takes i/p in string format \n",
    "income= int(input())\n",
    "if income<500:\n",
    "    print(\"I'll be able to buy phone\")\n",
    "elif income<700:\n",
    "    print(\"I'll be able to buy car\")\n",
    "elif income<900:\n",
    "    print(\"I'll be able to buy house\")\n",
    "else:\n",
    "    print(\"I'll be able to buy anything\")"
   ]
  },
  {
   "cell_type": "code",
   "execution_count": 69,
   "metadata": {},
   "outputs": [
    {
     "name": "stdout",
     "output_type": "stream",
     "text": [
      "10\n",
      "Discount on 10 :  0.5\n"
     ]
    }
   ],
   "source": [
    "totalPrice= int(input())\n",
    "if totalPrice>20000:\n",
    "    discount= totalPrice*.20\n",
    "    print(\"Discount on\", totalPrice, \": \", discount)\n",
    "elif totalPrice<=7000:\n",
    "    discount=totalPrice*.05\n",
    "    print(\"Discount on\", totalPrice, \": \", discount)\n",
    "else:\n",
    "    print(\"No Discount\")   "
   ]
  },
  {
   "cell_type": "code",
   "execution_count": 71,
   "metadata": {},
   "outputs": [
    {
     "name": "stdout",
     "output_type": "stream",
     "text": [
      "sud\n",
      "Enter a valid coupon code\n"
     ]
    }
   ],
   "source": [
    "coupon=input()\n",
    "if coupon==\"SUDHANSHU5\":\n",
    "    print(\"5% Discount\")\n",
    "    paidAmount= 7080-(7080*.05)\n",
    "    print(\"Now Pay: \", paidAmount)\n",
    "else:\n",
    "    print(\"Enter a valid coupon code\")"
   ]
  },
  {
   "cell_type": "code",
   "execution_count": null,
   "metadata": {},
   "outputs": [],
   "source": [
    "#Dead code\n",
    "a=10\n",
    "if a==10:\n",
    "    pass"
   ]
  },
  {
   "cell_type": "code",
   "execution_count": 72,
   "metadata": {},
   "outputs": [
    {
     "name": "stdout",
     "output_type": "stream",
     "text": [
      "1\n",
      "Range: 1-10\n"
     ]
    }
   ],
   "source": [
    "a=int(input())\n",
    "if a<=10 and a>=1:\n",
    "    print(\"Range: 1-10\")\n",
    "else:\n",
    "    print(\"Range: unknown\")"
   ]
  },
  {
   "cell_type": "code",
   "execution_count": 73,
   "metadata": {},
   "outputs": [
    {
     "name": "stdout",
     "output_type": "stream",
     "text": [
      "Enter the value: OneNeuron\n",
      "Enter course: DS\n",
      "Enter service: ML\n",
      "DS course available\n"
     ]
    }
   ],
   "source": [
    "value=input(\"Enter the value: \")\n",
    "course=input(\"Enter course: \")\n",
    "service=input(\"Enter service: \")\n",
    "\n",
    "if value==\"OneNeuron\":\n",
    "    if course==\"DS\":\n",
    "        print(\"DS course available\")\n",
    "    elif course==\"ML\":\n",
    "        print(\"ML course available\")\n",
    "    else:\n",
    "        print(\"Request your course\") \n",
    "elif value==\"iNeuronService\":\n",
    "    if service==\"Mock Interview\":\n",
    "        print(\"Raise demand for Mock Interview\")\n",
    "    elif service==\"Doubt Clearning\":\n",
    "        print(\"Connect with Skype team\")\n",
    "    else:\n",
    "        print(\"Connect with our team\")\n",
    "else:\n",
    "    print(\"Thank you\")"
   ]
  },
  {
   "cell_type": "code",
   "execution_count": 9,
   "metadata": {},
   "outputs": [
    {
     "name": "stdout",
     "output_type": "stream",
     "text": [
      "1\n",
      "2\n",
      "3\n",
      "4\n",
      "5\n"
     ]
    }
   ],
   "source": [
    "l=[1,2,3,4,5]\n",
    "for i in l:\n",
    "    print(i)"
   ]
  },
  {
   "cell_type": "code",
   "execution_count": 13,
   "metadata": {},
   "outputs": [
    {
     "name": "stdout",
     "output_type": "stream",
     "text": [
      "a\n",
      "n\n",
      "u\n",
      "j\n",
      "a\n"
     ]
    }
   ],
   "source": [
    "for i in \"anuja\":\n",
    "    print (i)"
   ]
  },
  {
   "cell_type": "code",
   "execution_count": 15,
   "metadata": {},
   "outputs": [
    {
     "name": "stdout",
     "output_type": "stream",
     "text": [
      "1\n",
      "2\n",
      "3\n"
     ]
    }
   ],
   "source": [
    "a=1,2,3\n",
    "for i in a:\n",
    "    print(i)"
   ]
  },
  {
   "cell_type": "code",
   "execution_count": 16,
   "metadata": {},
   "outputs": [
    {
     "name": "stdout",
     "output_type": "stream",
     "text": [
      "<class 'int'>\n",
      "<class 'str'>\n",
      "<class 'complex'>\n",
      "<class 'float'>\n"
     ]
    }
   ],
   "source": [
    "l=[4, \"anuja\", 4+6j, 5.0]\n",
    "for i in l:\n",
    "    print(type(i))"
   ]
  },
  {
   "cell_type": "code",
   "execution_count": 18,
   "metadata": {},
   "outputs": [
    {
     "name": "stdout",
     "output_type": "stream",
     "text": [
      "5\n",
      "6\n",
      "7\n",
      "8\n"
     ]
    }
   ],
   "source": [
    "l=[4, 5, 6, 7]\n",
    "m=[]\n",
    "for i in l:\n",
    "    print(i+1)\n",
    "    m.append(i)"
   ]
  },
  {
   "cell_type": "code",
   "execution_count": 84,
   "metadata": {},
   "outputs": [
    {
     "name": "stdout",
     "output_type": "stream",
     "text": [
      "['d', 'a', 't', 'a', 's', 'c', 'i', 'e', 'n', 'c', 'e', 'X', 'Y', 'Z']\n"
     ]
    }
   ],
   "source": [
    "l=[4, \"datascience\", 4+6j, 5.0, 5, [5, 7, \"XYZ\"]]\n",
    "m=[]\n",
    "for i in l:\n",
    "    if type(i)==str:\n",
    "        for j in i:\n",
    "            m.append(j)\n",
    "    elif type(i)==list:\n",
    "        for j in i:\n",
    "            if type(j)==str:\n",
    "                for e in j:\n",
    "                    m.append(e)\n",
    "print(m)"
   ]
  },
  {
   "cell_type": "code",
   "execution_count": 43,
   "metadata": {},
   "outputs": [
    {
     "name": "stdout",
     "output_type": "stream",
     "text": [
      "[16, 25]\n"
     ]
    }
   ],
   "source": [
    "l=[4, \"anuja\", 4+6j, 5.0, 5, [5, 7, \"abcd\"]]\n",
    "m=[]\n",
    "for i in l:\n",
    "    if type(i) == int:\n",
    "        j= i*i\n",
    "        m.append(j)\n",
    "print(m)"
   ]
  },
  {
   "cell_type": "code",
   "execution_count": 54,
   "metadata": {},
   "outputs": [
    {
     "name": "stdout",
     "output_type": "stream",
     "text": [
      "Index 0 Element 4\n",
      "Index 1 Element anuja\n",
      "Index 2 Element (4+6j)\n",
      "Index 3 Element 5.0\n",
      "Index 4 Element 5\n",
      "Index 5 Element [5, 7, 'abcd']\n"
     ]
    }
   ],
   "source": [
    "for i in range(len(l)):\n",
    "    print(\"Index\", i, \"Element\", l[i])"
   ]
  },
  {
   "cell_type": "code",
   "execution_count": 52,
   "metadata": {},
   "outputs": [
    {
     "name": "stdout",
     "output_type": "stream",
     "text": [
      "0 4\n",
      "1 anuja\n",
      "2 (4+6j)\n",
      "3 5.0\n",
      "4 5\n",
      "5 [5, 7, 'abcd']\n"
     ]
    }
   ],
   "source": [
    "for i,j in enumerate(l):\n",
    "    print(i,j)"
   ]
  },
  {
   "cell_type": "code",
   "execution_count": 76,
   "metadata": {},
   "outputs": [
    {
     "data": {
      "text/plain": [
       "[4, 'anuja', (4+6j), 5.0, 5, [5, 7, 'abcd'], 'a', 'n', 'u']"
      ]
     },
     "execution_count": 76,
     "metadata": {},
     "output_type": "execute_result"
    }
   ],
   "source": [
    "l=[4, \"anuja\", 4+6j, 5.0, 5, [5, 7, \"abcd\"]]\n",
    "m=['a', 'n', 'u']\n",
    "l.extend(m)\n",
    "l"
   ]
  },
  {
   "cell_type": "code",
   "execution_count": null,
   "metadata": {},
   "outputs": [],
   "source": []
  }
 ],
 "metadata": {
  "kernelspec": {
   "display_name": "Python 3",
   "language": "python",
   "name": "python3"
  },
  "language_info": {
   "codemirror_mode": {
    "name": "ipython",
    "version": 3
   },
   "file_extension": ".py",
   "mimetype": "text/x-python",
   "name": "python",
   "nbconvert_exporter": "python",
   "pygments_lexer": "ipython3",
   "version": "3.8.5"
  }
 },
 "nbformat": 4,
 "nbformat_minor": 4
}
